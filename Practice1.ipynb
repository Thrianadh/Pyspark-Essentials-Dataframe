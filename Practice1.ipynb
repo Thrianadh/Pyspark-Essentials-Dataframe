{
 "cells": [
  {
   "cell_type": "code",
   "execution_count": 2,
   "metadata": {},
   "outputs": [],
   "source": [
    "# import required packages\n",
    "import pyspark,os\n",
    "from pyspark.sql import SparkSession\n",
    "spark = SparkSession.builder.appName(\"practice1\").getOrCreate()"
   ]
  },
  {
   "cell_type": "code",
   "execution_count": 3,
   "metadata": {},
   "outputs": [],
   "source": [
    "os.chdir(r\"/home/ABC/Documents/Pyspark/\")"
   ]
  },
  {
   "cell_type": "code",
   "execution_count": 4,
   "metadata": {},
   "outputs": [],
   "source": [
    "# Read the csv in PySpark\n",
    "\n",
    "# Method 1\n",
    "SC_df = spark.read.csv(r\"/home/ABC/Documents/Pyspark/Practice1.csv\",header=True,sep=\",\",inferSchema=True)\n",
    "# method 2\n",
    "SC_df =spark.read.option(\"header\",\"True\").csv(r\"/home/ABC/Documents/Pyspark/Practice1.csv\",sep=\",\",inferSchema=True)"
   ]
  },
  {
   "cell_type": "code",
   "execution_count": 5,
   "metadata": {},
   "outputs": [
    {
     "name": "stdout",
     "output_type": "stream",
     "text": [
      "<class 'pyspark.sql.dataframe.DataFrame'>\n",
      "--------------------------------------------------\n",
      "root\n",
      " |-- Name: string (nullable = true)\n",
      " |-- Age: integer (nullable = true)\n",
      "\n",
      "None\n"
     ]
    }
   ],
   "source": [
    "# The type() function either returns the type of the object \n",
    "print(type(SC_df))\n",
    "\n",
    "print(\"-\"*50)\n",
    "\n",
    "#The printSchema() method provides an easily readable view of the DataFrame schema. Prints out the schema in the tree format.\n",
    "print(SC_df.printSchema())"
   ]
  },
  {
   "cell_type": "code",
   "execution_count": 6,
   "metadata": {},
   "outputs": [
    {
     "name": "stdout",
     "output_type": "stream",
     "text": [
      "Row(Name='Trump', Age=74)\n",
      "[Row(Name='Trump', Age=74), Row(Name='Modi', Age=70)]\n"
     ]
    }
   ],
   "source": [
    "# display the top rows using head\n",
    "print(SC_df.head())\n",
    "print(SC_df.head(2))"
   ]
  },
  {
   "cell_type": "code",
   "execution_count": null,
   "metadata": {},
   "outputs": [],
   "source": []
  }
 ],
 "metadata": {
  "kernelspec": {
   "display_name": "Python 3",
   "language": "python",
   "name": "python3"
  },
  "language_info": {
   "codemirror_mode": {
    "name": "ipython",
    "version": 3
   },
   "file_extension": ".py",
   "mimetype": "text/x-python",
   "name": "python",
   "nbconvert_exporter": "python",
   "pygments_lexer": "ipython3",
   "version": "3.8.5"
  }
 },
 "nbformat": 4,
 "nbformat_minor": 4
}
