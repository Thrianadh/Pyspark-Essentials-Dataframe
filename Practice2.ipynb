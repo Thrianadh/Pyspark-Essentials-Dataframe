{
 "cells": [
  {
   "cell_type": "code",
   "execution_count": null,
   "metadata": {},
   "outputs": [],
   "source": [
    "# pyspark Dataframe\n",
    "# Reading the dataset\n",
    "# Checking the datatypes of the columns\n",
    "# Selecting Columns and indexing\n",
    "# Check describe option to similar pandas\n",
    "# adding Columns \n",
    "# dropping columns"
   ]
  },
  {
   "cell_type": "code",
   "execution_count": 15,
   "metadata": {},
   "outputs": [],
   "source": [
    "import pyspark,os\n",
    "from pyspark.sql import SparkSession\n",
    "spark = SparkSession.builder.appName(\"Practice2\").getOrCreate()"
   ]
  },
  {
   "cell_type": "code",
   "execution_count": 17,
   "metadata": {},
   "outputs": [],
   "source": [
    "os.chdir(r\"/home/ABC/Documents/Pyspark/\")"
   ]
  },
  {
   "cell_type": "code",
   "execution_count": 32,
   "metadata": {},
   "outputs": [],
   "source": [
    "# Reading the Dataset\n",
    "SC_df = spark.read.csv(r\"/home/ABC/Documents/Pyspark/Practice2.csv\",header=True,inferSchema=True,sep=\",\")"
   ]
  },
  {
   "cell_type": "code",
   "execution_count": 79,
   "metadata": {},
   "outputs": [
    {
     "name": "stdout",
     "output_type": "stream",
     "text": [
      "[('Name', 'string'), ('Experience', 'int')]\n",
      "                                        \n",
      "<class 'pyspark.sql.column.Column'>\n",
      "                                        \n",
      "root\n",
      " |-- Name: string (nullable = true)\n",
      " |-- Experience: integer (nullable = true)\n",
      "\n",
      "None\n",
      "                                        \n",
      "<class 'list'>\n"
     ]
    }
   ],
   "source": [
    "# checking the datatypes of the column\n",
    "print(SC_df.dtypes)\n",
    "print(\" \"*40)\n",
    "print(type(SC_df[\"Name\"]))\n",
    "print(\" \"*40)\n",
    "print(SC_df.printSchema())\n",
    "print(\" \"*40)\n",
    "print(type(SC_df.columns))"
   ]
  },
  {
   "cell_type": "code",
   "execution_count": 35,
   "metadata": {},
   "outputs": [
    {
     "data": {
      "text/plain": [
       "DataFrame[Age: int, Name: string]"
      ]
     },
     "execution_count": 35,
     "metadata": {},
     "output_type": "execute_result"
    }
   ],
   "source": [
    "# Selecting Columns and indexing\n",
    "SC_df.select(\"Name\")         # Single  Column\n",
    "SC_df.select([\"Age\",\"Name\"]) # For mutiple columns "
   ]
  },
  {
   "cell_type": "code",
   "execution_count": 31,
   "metadata": {},
   "outputs": [
    {
     "name": "stdout",
     "output_type": "stream",
     "text": [
      "+----------+---+----------+\n",
      "|      Name|Age|Experience|\n",
      "+----------+---+----------+\n",
      "|     Trump| 74|         5|\n",
      "|      Modi| 70|         7|\n",
      "|xi jinping| 67|         8|\n",
      "+----------+---+----------+\n",
      "\n"
     ]
    }
   ],
   "source": [
    "SC_df.show()"
   ]
  },
  {
   "cell_type": "code",
   "execution_count": 42,
   "metadata": {},
   "outputs": [
    {
     "name": "stdout",
     "output_type": "stream",
     "text": [
      "DataFrame[summary: string, Name: string, Age: string, Experience: string]\n",
      "                              \n",
      "+-------+----------+-----------------+------------------+\n",
      "|summary|      Name|              Age|        Experience|\n",
      "+-------+----------+-----------------+------------------+\n",
      "|  count|         3|                3|                 3|\n",
      "|   mean|      null|70.33333333333333| 6.666666666666667|\n",
      "| stddev|      null|3.511884584284246|1.5275252316519468|\n",
      "|    min|      Modi|               67|                 5|\n",
      "|    max|xi jinping|               74|                 8|\n",
      "+-------+----------+-----------------+------------------+\n",
      "\n",
      "None\n"
     ]
    }
   ],
   "source": [
    "# # Check describe option to similar pandas\n",
    "print(SC_df.describe())\n",
    "print(\" \"*30)\n",
    "print(SC_df.describe().show())"
   ]
  },
  {
   "cell_type": "code",
   "execution_count": 50,
   "metadata": {},
   "outputs": [
    {
     "name": "stdout",
     "output_type": "stream",
     "text": [
      "+----------+---+----------+------------------+\n",
      "|      Name|Age|Experience|After two Year Age|\n",
      "+----------+---+----------+------------------+\n",
      "|     Trump| 74|         5|                77|\n",
      "|      Modi| 70|         7|                73|\n",
      "|xi jinping| 67|         8|                70|\n",
      "+----------+---+----------+------------------+\n",
      "\n",
      "None\n"
     ]
    }
   ],
   "source": [
    "# Adding New Column\n",
    "SC_df = SC_df.withColumn(\"After two Year Age\",SC_df[\"Age\"]+3)\n",
    "print(SC_df.show())"
   ]
  },
  {
   "cell_type": "code",
   "execution_count": 53,
   "metadata": {},
   "outputs": [
    {
     "name": "stdout",
     "output_type": "stream",
     "text": [
      "+----------+----------+\n",
      "|      Name|Experience|\n",
      "+----------+----------+\n",
      "|     Trump|         5|\n",
      "|      Modi|         7|\n",
      "|xi jinping|         8|\n",
      "+----------+----------+\n",
      "\n",
      "None\n"
     ]
    }
   ],
   "source": [
    "\n",
    "SC_df = SC_df.drop(\"After two Year Age\")       # Dropping Single Column\n",
    "SC_df = SC_df.drop(\"After two Year Age\",\"Age\") # Dropping Multiple Columns\n",
    "print(SC_df.show())"
   ]
  },
  {
   "cell_type": "code",
   "execution_count": 55,
   "metadata": {},
   "outputs": [
    {
     "name": "stdout",
     "output_type": "stream",
     "text": [
      "+----------+----------+\n",
      "|     Name_|Experience|\n",
      "+----------+----------+\n",
      "|     Trump|         5|\n",
      "|      Modi|         7|\n",
      "|xi jinping|         8|\n",
      "+----------+----------+\n",
      "\n"
     ]
    }
   ],
   "source": [
    "# Rename the columns\n",
    "SC_df = SC_df.withColumnRenamed(\"Name\",\"Name_\")\n",
    "SC_df.show()"
   ]
  },
  {
   "cell_type": "code",
   "execution_count": 63,
   "metadata": {},
   "outputs": [
    {
     "name": "stdout",
     "output_type": "stream",
     "text": [
      "['Name', 'Experience']\n",
      "+----------+----------+\n",
      "|      Name|Experience|\n",
      "+----------+----------+\n",
      "|     Trump|         5|\n",
      "|      Modi|         7|\n",
      "|xi jinping|         8|\n",
      "+----------+----------+\n",
      "\n"
     ]
    }
   ],
   "source": [
    "# to get the column names\n",
    "print(SC_df.columns)\n"
   ]
  },
  {
   "cell_type": "code",
   "execution_count": 74,
   "metadata": {},
   "outputs": [
    {
     "data": {
      "text/plain": [
       "pyspark.sql.column.Column"
      ]
     },
     "execution_count": 74,
     "metadata": {},
     "output_type": "execute_result"
    }
   ],
   "source": []
  },
  {
   "cell_type": "code",
   "execution_count": 80,
   "metadata": {},
   "outputs": [
    {
     "name": "stdout",
     "output_type": "stream",
     "text": [
      "<class 'list'>\n"
     ]
    }
   ],
   "source": [
    "print(type(SC_df.columns))"
   ]
  },
  {
   "cell_type": "code",
   "execution_count": 83,
   "metadata": {},
   "outputs": [
    {
     "name": "stdout",
     "output_type": "stream",
     "text": [
      "<class 'list'>\n"
     ]
    }
   ],
   "source": []
  },
  {
   "cell_type": "code",
   "execution_count": null,
   "metadata": {},
   "outputs": [],
   "source": []
  }
 ],
 "metadata": {
  "kernelspec": {
   "display_name": "Python 3",
   "language": "python",
   "name": "python3"
  },
  "language_info": {
   "codemirror_mode": {
    "name": "ipython",
    "version": 3
   },
   "file_extension": ".py",
   "mimetype": "text/x-python",
   "name": "python",
   "nbconvert_exporter": "python",
   "pygments_lexer": "ipython3",
   "version": "3.8.5"
  }
 },
 "nbformat": 4,
 "nbformat_minor": 4
}
